{
 "cells": [
  {
   "cell_type": "code",
   "execution_count": 1,
   "id": "237fc0c2",
   "metadata": {},
   "outputs": [],
   "source": [
    "import datetime as dt\n",
    "from datetime import datetime\n",
    "import pandas as pd\n",
    "import matplotlib as mayplotlib\n",
    "import numpy as np\n",
    "from matplotlib import pyplot as plt\n",
    "import seaborn as sns\n",
    "import glob\n",
    "import os"
   ]
  },
  {
   "cell_type": "code",
   "execution_count": 2,
   "id": "8e984768",
   "metadata": {},
   "outputs": [],
   "source": [
    "#read csv files of Chicago's weather in 2021\n",
    "CW2101 = pd.read_csv('/Users/asamitakeuchi/Bike/Chicago_weather_2101.csv', usecols=['Date','Average','Precipitation','New Snow'])\n",
    "CW2102 = pd.read_csv('/Users/asamitakeuchi/Bike/Chicago_weather_2102.csv', usecols=['Date','Average','Precipitation','New Snow'])\n",
    "CW2103 = pd.read_csv('/Users/asamitakeuchi/Bike/Chicago_weather_2103.csv', usecols=['Date','Average','Precipitation','New Snow'])\n",
    "CW2104 = pd.read_csv('/Users/asamitakeuchi/Bike/Chicago_weather_2104.csv', usecols=['Date','Average','Precipitation','New Snow'])\n",
    "CW2105 = pd.read_csv('/Users/asamitakeuchi/Bike/Chicago_weather_2105.csv', usecols=['Date','Average','Precipitation','New Snow'])\n",
    "CW2106 = pd.read_csv('/Users/asamitakeuchi/Bike/Chicago_weather_2106.csv', usecols=['Date','Average','Precipitation','New Snow'])\n",
    "CW2107 = pd.read_csv('/Users/asamitakeuchi/Bike/Chicago_weather_2107.csv', usecols=['Date','Average','Precipitation','New Snow'])\n",
    "CW2108 = pd.read_csv('/Users/asamitakeuchi/Bike/Chicago_weather_2108.csv', usecols=['Date','Average','Precipitation','New Snow'])\n",
    "CW2109 = pd.read_csv('/Users/asamitakeuchi/Bike/Chicago_weather_2109.csv', usecols=['Date','Average','Precipitation','New Snow'])\n",
    "CW2110 = pd.read_csv('/Users/asamitakeuchi/Bike/Chicago_weather_2110.csv', usecols=['Date','Average','Precipitation','New Snow'])\n",
    "CW2111 = pd.read_csv('/Users/asamitakeuchi/Bike/Chicago_weather_2111.csv', usecols=['Date','Average','Precipitation','New Snow'])\n",
    "CW2112 = pd.read_csv('/Users/asamitakeuchi/Bike/Chicago_weather_2112.csv', usecols=['Date','Average','Precipitation','New Snow'])"
   ]
  },
  {
   "cell_type": "code",
   "execution_count": 3,
   "id": "b4b6587a",
   "metadata": {},
   "outputs": [
    {
     "data": {
      "text/html": [
       "<div>\n",
       "<style scoped>\n",
       "    .dataframe tbody tr th:only-of-type {\n",
       "        vertical-align: middle;\n",
       "    }\n",
       "\n",
       "    .dataframe tbody tr th {\n",
       "        vertical-align: top;\n",
       "    }\n",
       "\n",
       "    .dataframe thead th {\n",
       "        text-align: right;\n",
       "    }\n",
       "</style>\n",
       "<table border=\"1\" class=\"dataframe\">\n",
       "  <thead>\n",
       "    <tr style=\"text-align: right;\">\n",
       "      <th></th>\n",
       "      <th>Date</th>\n",
       "      <th>Average</th>\n",
       "      <th>Precipitation</th>\n",
       "      <th>New Snow</th>\n",
       "    </tr>\n",
       "  </thead>\n",
       "  <tbody>\n",
       "    <tr>\n",
       "      <th>0</th>\n",
       "      <td>1/1/21</td>\n",
       "      <td>27.0</td>\n",
       "      <td>0.38</td>\n",
       "      <td>1.3</td>\n",
       "    </tr>\n",
       "    <tr>\n",
       "      <th>1</th>\n",
       "      <td>1/2/21</td>\n",
       "      <td>31.5</td>\n",
       "      <td>T</td>\n",
       "      <td>0</td>\n",
       "    </tr>\n",
       "    <tr>\n",
       "      <th>2</th>\n",
       "      <td>1/3/21</td>\n",
       "      <td>29.5</td>\n",
       "      <td>0.03</td>\n",
       "      <td>0.4</td>\n",
       "    </tr>\n",
       "    <tr>\n",
       "      <th>3</th>\n",
       "      <td>1/4/21</td>\n",
       "      <td>27.0</td>\n",
       "      <td>T</td>\n",
       "      <td>T</td>\n",
       "    </tr>\n",
       "    <tr>\n",
       "      <th>4</th>\n",
       "      <td>1/5/21</td>\n",
       "      <td>33.0</td>\n",
       "      <td>0</td>\n",
       "      <td>0</td>\n",
       "    </tr>\n",
       "  </tbody>\n",
       "</table>\n",
       "</div>"
      ],
      "text/plain": [
       "     Date  Average Precipitation New Snow\n",
       "0  1/1/21     27.0          0.38      1.3\n",
       "1  1/2/21     31.5             T        0\n",
       "2  1/3/21     29.5          0.03      0.4\n",
       "3  1/4/21     27.0             T        T\n",
       "4  1/5/21     33.0             0        0"
      ]
     },
     "execution_count": 3,
     "metadata": {},
     "output_type": "execute_result"
    }
   ],
   "source": [
    "cw2021_files = [CW2101,CW2102,CW2103,CW2104,CW2105,CW2106,CW2107,CW2108,CW2109,CW2110,CW2111,CW2112]\n",
    "cw2021 = pd.concat(cw2021_files)\n",
    "cw2021.head()"
   ]
  },
  {
   "cell_type": "code",
   "execution_count": 4,
   "id": "15ab7348",
   "metadata": {},
   "outputs": [
    {
     "name": "stdout",
     "output_type": "stream",
     "text": [
      "<class 'pandas.core.frame.DataFrame'>\n",
      "Int64Index: 365 entries, 0 to 30\n",
      "Data columns (total 4 columns):\n",
      " #   Column         Non-Null Count  Dtype  \n",
      "---  ------         --------------  -----  \n",
      " 0   Date           365 non-null    object \n",
      " 1   Average        365 non-null    float64\n",
      " 2   Precipitation  365 non-null    object \n",
      " 3   New Snow       365 non-null    object \n",
      "dtypes: float64(1), object(3)\n",
      "memory usage: 14.3+ KB\n"
     ]
    }
   ],
   "source": [
    "cw2021.info()"
   ]
  },
  {
   "cell_type": "code",
   "execution_count": 5,
   "id": "0e4e455c",
   "metadata": {},
   "outputs": [
    {
     "data": {
      "text/plain": [
       "Date             0\n",
       "Average          0\n",
       "Precipitation    0\n",
       "New Snow         0\n",
       "dtype: int64"
      ]
     },
     "execution_count": 5,
     "metadata": {},
     "output_type": "execute_result"
    }
   ],
   "source": [
    "cw2021.isnull().sum()"
   ]
  },
  {
   "cell_type": "code",
   "execution_count": 6,
   "id": "cf265d3c",
   "metadata": {},
   "outputs": [
    {
     "data": {
      "text/plain": [
       "array(['0.38', 'T', '0.03', '0', '0.02', '0.14', '0.01', '0.07', '0.05',\n",
       "       '0.48', '0.36', '0.29', '0.31', '0.08', '0.12', '0.19', '0.04',\n",
       "       '0.32', '0.16', '0.23', '0.37', '0.06', '0.24', '0.18', '0.26',\n",
       "       '0.1', '0.74', '0.5', '1.5', '0.21', '1.85', '0.46', '1.31',\n",
       "       '0.63', '0.17', '0.11', '0.09', '1.12', '0.64', '0.6', '1.91',\n",
       "       '0.39', '0.28', '0.45', '0.4', '0.66', '0.75', '0.35', '0.76',\n",
       "       '0.44', '0.53', '0.13', '0.84'], dtype=object)"
      ]
     },
     "execution_count": 6,
     "metadata": {},
     "output_type": "execute_result"
    }
   ],
   "source": [
    "cw2021['Precipitation'].unique()"
   ]
  },
  {
   "cell_type": "code",
   "execution_count": 7,
   "id": "e4314b75",
   "metadata": {},
   "outputs": [],
   "source": [
    "#Change the dtype of Data column to datetime\n",
    "cw2021['Date'] = pd.to_datetime(cw2021['Date']).dt.date"
   ]
  },
  {
   "cell_type": "code",
   "execution_count": 8,
   "id": "220b67b8",
   "metadata": {},
   "outputs": [
    {
     "data": {
      "text/plain": [
       "0    2021-01-01\n",
       "1    2021-01-02\n",
       "2    2021-01-03\n",
       "3    2021-01-04\n",
       "4    2021-01-05\n",
       "Name: Date, dtype: object"
      ]
     },
     "execution_count": 8,
     "metadata": {},
     "output_type": "execute_result"
    }
   ],
   "source": [
    "cw2021['Date'].head()"
   ]
  },
  {
   "cell_type": "code",
   "execution_count": 12,
   "id": "210d2b6b",
   "metadata": {},
   "outputs": [
    {
     "name": "stdout",
     "output_type": "stream",
     "text": [
      "The data type of Precipitation is: int64\n",
      "The data type of New Snow is: int64\n"
     ]
    },
    {
     "data": {
      "text/html": [
       "<div>\n",
       "<style scoped>\n",
       "    .dataframe tbody tr th:only-of-type {\n",
       "        vertical-align: middle;\n",
       "    }\n",
       "\n",
       "    .dataframe tbody tr th {\n",
       "        vertical-align: top;\n",
       "    }\n",
       "\n",
       "    .dataframe thead th {\n",
       "        text-align: right;\n",
       "    }\n",
       "</style>\n",
       "<table border=\"1\" class=\"dataframe\">\n",
       "  <thead>\n",
       "    <tr style=\"text-align: right;\">\n",
       "      <th></th>\n",
       "      <th>Date</th>\n",
       "      <th>Average</th>\n",
       "      <th>Precipitation</th>\n",
       "      <th>New Snow</th>\n",
       "    </tr>\n",
       "  </thead>\n",
       "  <tbody>\n",
       "    <tr>\n",
       "      <th>0</th>\n",
       "      <td>2021-01-01</td>\n",
       "      <td>27.0</td>\n",
       "      <td>1</td>\n",
       "      <td>1</td>\n",
       "    </tr>\n",
       "    <tr>\n",
       "      <th>1</th>\n",
       "      <td>2021-01-02</td>\n",
       "      <td>31.5</td>\n",
       "      <td>0</td>\n",
       "      <td>0</td>\n",
       "    </tr>\n",
       "    <tr>\n",
       "      <th>2</th>\n",
       "      <td>2021-01-03</td>\n",
       "      <td>29.5</td>\n",
       "      <td>1</td>\n",
       "      <td>1</td>\n",
       "    </tr>\n",
       "    <tr>\n",
       "      <th>3</th>\n",
       "      <td>2021-01-04</td>\n",
       "      <td>27.0</td>\n",
       "      <td>0</td>\n",
       "      <td>0</td>\n",
       "    </tr>\n",
       "    <tr>\n",
       "      <th>4</th>\n",
       "      <td>2021-01-05</td>\n",
       "      <td>33.0</td>\n",
       "      <td>0</td>\n",
       "      <td>0</td>\n",
       "    </tr>\n",
       "  </tbody>\n",
       "</table>\n",
       "</div>"
      ],
      "text/plain": [
       "         Date  Average  Precipitation  New Snow\n",
       "0  2021-01-01     27.0              1         1\n",
       "1  2021-01-02     31.5              0         0\n",
       "2  2021-01-03     29.5              1         1\n",
       "3  2021-01-04     27.0              0         0\n",
       "4  2021-01-05     33.0              0         0"
      ]
     },
     "execution_count": 12,
     "metadata": {},
     "output_type": "execute_result"
    }
   ],
   "source": [
    "#change the dtype of 'precipitation' and 'New Snow'\n",
    "#Both contain the value 'T', which means there were no rain/snow. \n",
    "#Replaing 'T' with 0\n",
    "cw2021['Precipitation'] = cw2021['Precipitation'].replace('T', 0)\n",
    "cw2021['New Snow'] = cw2021['New Snow'].replace('T', 0)\n",
    "\n",
    "#change the datatype of the two to numeric value\n",
    "cw2021['Precipitation'] = pd.to_numeric(cw2021['Precipitation'])\n",
    "cw2021['New Snow'] = pd.to_numeric(cw2021['New Snow'])\n",
    "\n",
    "print('The data type of Precipitation is:', cw2021['Precipitation'].dtype)\n",
    "print('The data type of New Snow is:', cw2021['New Snow'].dtype)\n",
    "cw2021.head()"
   ]
  },
  {
   "cell_type": "code",
   "execution_count": 13,
   "id": "738c1b4b",
   "metadata": {},
   "outputs": [],
   "source": [
    "#Change Precipitation and New Snow to 0 and 1\n",
    "cw2021['Precipitation'] = cw2021['Precipitation'].apply(lambda x: 0 if x == 0 else 1)\n",
    "cw2021['New Snow'] = cw2021['New Snow'].apply(lambda x: 0 if x == 0 else 1)"
   ]
  },
  {
   "cell_type": "code",
   "execution_count": 14,
   "id": "3bcfb2d6",
   "metadata": {},
   "outputs": [
    {
     "data": {
      "text/html": [
       "<div>\n",
       "<style scoped>\n",
       "    .dataframe tbody tr th:only-of-type {\n",
       "        vertical-align: middle;\n",
       "    }\n",
       "\n",
       "    .dataframe tbody tr th {\n",
       "        vertical-align: top;\n",
       "    }\n",
       "\n",
       "    .dataframe thead th {\n",
       "        text-align: right;\n",
       "    }\n",
       "</style>\n",
       "<table border=\"1\" class=\"dataframe\">\n",
       "  <thead>\n",
       "    <tr style=\"text-align: right;\">\n",
       "      <th></th>\n",
       "      <th>Date</th>\n",
       "      <th>Average</th>\n",
       "      <th>Precipitation</th>\n",
       "      <th>New Snow</th>\n",
       "    </tr>\n",
       "  </thead>\n",
       "  <tbody>\n",
       "    <tr>\n",
       "      <th>0</th>\n",
       "      <td>2021-01-01</td>\n",
       "      <td>27.0</td>\n",
       "      <td>1</td>\n",
       "      <td>1</td>\n",
       "    </tr>\n",
       "    <tr>\n",
       "      <th>1</th>\n",
       "      <td>2021-01-02</td>\n",
       "      <td>31.5</td>\n",
       "      <td>0</td>\n",
       "      <td>0</td>\n",
       "    </tr>\n",
       "    <tr>\n",
       "      <th>2</th>\n",
       "      <td>2021-01-03</td>\n",
       "      <td>29.5</td>\n",
       "      <td>1</td>\n",
       "      <td>1</td>\n",
       "    </tr>\n",
       "    <tr>\n",
       "      <th>3</th>\n",
       "      <td>2021-01-04</td>\n",
       "      <td>27.0</td>\n",
       "      <td>0</td>\n",
       "      <td>0</td>\n",
       "    </tr>\n",
       "    <tr>\n",
       "      <th>4</th>\n",
       "      <td>2021-01-05</td>\n",
       "      <td>33.0</td>\n",
       "      <td>0</td>\n",
       "      <td>0</td>\n",
       "    </tr>\n",
       "  </tbody>\n",
       "</table>\n",
       "</div>"
      ],
      "text/plain": [
       "         Date  Average  Precipitation  New Snow\n",
       "0  2021-01-01     27.0              1         1\n",
       "1  2021-01-02     31.5              0         0\n",
       "2  2021-01-03     29.5              1         1\n",
       "3  2021-01-04     27.0              0         0\n",
       "4  2021-01-05     33.0              0         0"
      ]
     },
     "execution_count": 14,
     "metadata": {},
     "output_type": "execute_result"
    }
   ],
   "source": [
    "cw2021.head()"
   ]
  },
  {
   "cell_type": "code",
   "execution_count": 16,
   "id": "1ec7a9f2",
   "metadata": {},
   "outputs": [
    {
     "data": {
      "text/plain": [
       "Precipitation\n",
       "0    247\n",
       "1    118\n",
       "dtype: int64"
      ]
     },
     "execution_count": 16,
     "metadata": {},
     "output_type": "execute_result"
    }
   ],
   "source": [
    "#check data\n",
    "cw2021.groupby('Precipitation').size()"
   ]
  },
  {
   "cell_type": "code",
   "execution_count": 17,
   "id": "e93b6434",
   "metadata": {},
   "outputs": [
    {
     "data": {
      "text/plain": [
       "New Snow\n",
       "0    337\n",
       "1     28\n",
       "dtype: int64"
      ]
     },
     "execution_count": 17,
     "metadata": {},
     "output_type": "execute_result"
    }
   ],
   "source": [
    "cw2021.groupby('New Snow').size()"
   ]
  },
  {
   "cell_type": "code",
   "execution_count": 18,
   "id": "6116f528",
   "metadata": {},
   "outputs": [],
   "source": [
    "cw2021.to_csv('Chicago_weather_2021.csv'\n",
    "             , header=True\n",
    "             , index=False\n",
    "             , chunksize=500\n",
    "             , encoding='utf-8')"
   ]
  },
  {
   "cell_type": "code",
   "execution_count": null,
   "id": "5882a1be",
   "metadata": {},
   "outputs": [],
   "source": []
  }
 ],
 "metadata": {
  "kernelspec": {
   "display_name": "Python 3 (ipykernel)",
   "language": "python",
   "name": "python3"
  },
  "language_info": {
   "codemirror_mode": {
    "name": "ipython",
    "version": 3
   },
   "file_extension": ".py",
   "mimetype": "text/x-python",
   "name": "python",
   "nbconvert_exporter": "python",
   "pygments_lexer": "ipython3",
   "version": "3.10.9"
  }
 },
 "nbformat": 4,
 "nbformat_minor": 5
}
